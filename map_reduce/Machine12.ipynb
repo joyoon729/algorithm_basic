{
 "cells": [
  {
   "cell_type": "code",
   "execution_count": 1,
   "metadata": {},
   "outputs": [],
   "source": [
    "import pandas as pd\n",
    "import numpy as np\n",
    "import os\n",
    "import glob"
   ]
  },
  {
   "cell_type": "code",
   "execution_count": 53,
   "metadata": {},
   "outputs": [],
   "source": [
    "weblog = pd.read_csv('weblog.csv')"
   ]
  },
  {
   "cell_type": "markdown",
   "metadata": {},
   "source": [
    "### 목표\n",
    "---\n",
    "- 특정 ip 의 request 횟수 출력"
   ]
  },
  {
   "cell_type": "markdown",
   "metadata": {},
   "source": [
    "---\n",
    "# Machine 1\n",
    "---"
   ]
  },
  {
   "cell_type": "code",
   "execution_count": 73,
   "metadata": {},
   "outputs": [
    {
     "data": {
      "text/plain": [
       "0    10.128.2.1\n",
       "1    10.128.2.1\n",
       "2    10.128.2.1\n",
       "3    10.131.2.1\n",
       "4    10.130.2.1\n",
       "5    10.130.2.1\n",
       "6    10.128.2.1\n",
       "7    10.131.2.1\n",
       "8    10.131.2.1\n",
       "9    10.131.2.1\n",
       "Name: IP, dtype: object"
      ]
     },
     "metadata": {},
     "output_type": "display_data"
    }
   ],
   "source": [
    "tmp_weblog = weblog.iloc[0:10,:]\n",
    "display(tmp_weblog.IP)\n",
    "\n",
    "def mapping(key, value):\n",
    "    return (key, value)\n",
    "\n",
    "# mapping\n",
    "maps = []\n",
    "for i in tmp_weblog.IP:\n",
    "    maps.append(mapping(i,1))\n",
    "maps = pd.DataFrame(maps, columns=['key', 'value'])\n",
    "maps.to_csv('maps.csv', mode='w', index=False)"
   ]
  },
  {
   "cell_type": "markdown",
   "metadata": {},
   "source": [
    "---\n",
    "# Machine 2\n",
    "---"
   ]
  },
  {
   "cell_type": "code",
   "execution_count": 74,
   "metadata": {},
   "outputs": [
    {
     "data": {
      "text/plain": [
       "10    10.131.2.1\n",
       "11    10.130.2.1\n",
       "12    10.130.2.1\n",
       "13    10.130.2.1\n",
       "14    10.130.2.1\n",
       "15    10.129.2.1\n",
       "16    10.131.0.1\n",
       "17    10.131.0.1\n",
       "18    10.130.2.1\n",
       "19    10.131.2.1\n",
       "Name: IP, dtype: object"
      ]
     },
     "metadata": {},
     "output_type": "display_data"
    }
   ],
   "source": [
    "tmp_weblog = weblog.iloc[10:20,:]\n",
    "display(tmp_weblog.IP)\n",
    "\n",
    "def mapping(key, value):\n",
    "    return (key, value)\n",
    "\n",
    "# mapping\n",
    "maps = []\n",
    "for i in tmp_weblog.IP:\n",
    "    maps.append(mapping(i,1))\n",
    "maps = pd.DataFrame(maps, columns=['key', 'value'])\n",
    "maps.to_csv('maps.csv', mode='a', index=False, header=False)"
   ]
  }
 ],
 "metadata": {
  "kernelspec": {
   "display_name": "Python 3",
   "language": "python",
   "name": "python3"
  },
  "language_info": {
   "codemirror_mode": {
    "name": "ipython",
    "version": 3
   },
   "file_extension": ".py",
   "mimetype": "text/x-python",
   "name": "python",
   "nbconvert_exporter": "python",
   "pygments_lexer": "ipython3",
   "version": "3.7.3"
  }
 },
 "nbformat": 4,
 "nbformat_minor": 2
}
