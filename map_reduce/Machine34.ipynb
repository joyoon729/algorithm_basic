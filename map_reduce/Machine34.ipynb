{
 "cells": [
  {
   "cell_type": "code",
   "execution_count": 1,
   "metadata": {},
   "outputs": [],
   "source": [
    "import pandas as pd\n",
    "import numpy as np\n",
    "import os\n",
    "import glob"
   ]
  },
  {
   "cell_type": "markdown",
   "metadata": {},
   "source": [
    "---\n",
    "# Machine 3\n",
    "---"
   ]
  },
  {
   "cell_type": "code",
   "execution_count": 23,
   "metadata": {},
   "outputs": [],
   "source": [
    "# shared variable\n",
    "share = 0\n",
    "\n",
    "maps = pd.read_csv('maps.csv')\n",
    "maps = maps.iloc[0::2]\n",
    "\n",
    "res = {}\n",
    "\n",
    "# reducing\n",
    "for key, value in maps.values:\n",
    "    if key not in res:\n",
    "        res[key] = 1\n",
    "    else:\n",
    "        res[key] = res[key] + 1\n",
    "\n",
    "share = share + res['10.131.2.1']"
   ]
  },
  {
   "cell_type": "markdown",
   "metadata": {},
   "source": [
    "---\n",
    "# Machine 4\n",
    "---"
   ]
  },
  {
   "cell_type": "code",
   "execution_count": 24,
   "metadata": {},
   "outputs": [],
   "source": [
    "maps = pd.read_csv('maps.csv')\n",
    "maps = maps.iloc[1::2]\n",
    "\n",
    "res = {}\n",
    "\n",
    "# reducing\n",
    "for key, value in maps.values:\n",
    "    if key not in res:\n",
    "        res[key] = 1\n",
    "    else:\n",
    "        res[key] = res[key] + 1\n",
    "\n",
    "share = share + res['10.131.2.1']"
   ]
  },
  {
   "cell_type": "code",
   "execution_count": 26,
   "metadata": {},
   "outputs": [
    {
     "name": "stdout",
     "output_type": "stream",
     "text": [
      "6\n"
     ]
    }
   ],
   "source": [
    "print(share)"
   ]
  },
  {
   "cell_type": "code",
   "execution_count": null,
   "metadata": {},
   "outputs": [],
   "source": []
  }
 ],
 "metadata": {
  "kernelspec": {
   "display_name": "Python 3",
   "language": "python",
   "name": "python3"
  },
  "language_info": {
   "codemirror_mode": {
    "name": "ipython",
    "version": 3
   },
   "file_extension": ".py",
   "mimetype": "text/x-python",
   "name": "python",
   "nbconvert_exporter": "python",
   "pygments_lexer": "ipython3",
   "version": "3.7.3"
  }
 },
 "nbformat": 4,
 "nbformat_minor": 2
}
